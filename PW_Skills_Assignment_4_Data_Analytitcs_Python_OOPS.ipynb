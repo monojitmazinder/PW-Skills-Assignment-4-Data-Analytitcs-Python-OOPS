{
  "nbformat": 4,
  "nbformat_minor": 0,
  "metadata": {
    "colab": {
      "provenance": []
    },
    "kernelspec": {
      "name": "python3",
      "display_name": "Python 3"
    },
    "language_info": {
      "name": "python"
    }
  },
  "cells": [
    {
      "cell_type": "markdown",
      "source": [
        "# **PW Skills Assignment-4:Data Analytitcs: Python-OOPS**"
      ],
      "metadata": {
        "id": "gOdGZAW7bFbX"
      }
    },
    {
      "cell_type": "markdown",
      "source": [
        "**Python OOPs Questions**"
      ],
      "metadata": {
        "id": "QVRQUu2JbUlp"
      }
    },
    {
      "cell_type": "markdown",
      "source": [
        "1. What is Object-Oriented Programming (OOP)?\n",
        "\n",
        "Ans: Object-Oriented Programming (OOP) is a programming approach based on the concept of \"objects\", which contain data (attributes) and code (methods). It focuses on four main principles: encapsulation, inheritance, polymorphism, and abstraction. OOP helps in organizing code, making it reusable, scalable, and easier to maintain. In Python, OOP is widely used in data analytics, software development, and building real-world applications.\n",
        "\n"
      ],
      "metadata": {
        "id": "1Jz2L8T9bx-D"
      }
    },
    {
      "cell_type": "markdown",
      "source": [
        "2. What is a class in OOP?\n",
        "\n",
        "Ans: In Object-Oriented Programming (OOP), a class is a blueprint or template for creating objects. It defines a set of attributes (variables) and methods (functions) that the created objects will have. A class does not hold data itself but provides the structure for objects to store data and perform actions. In Python, a class is defined using the class keyword. Once a class is created, multiple objects (instances) can be made from it, each having its own values for the attributes defined in the class."
      ],
      "metadata": {
        "id": "6Ve9avWhdbiF"
      }
    },
    {
      "cell_type": "markdown",
      "source": [
        "3. What is an object in OOP?\n",
        "\n",
        "Ans: In Object-Oriented Programming (OOP), an object is an instance of a class. It is a self-contained unit that combines data (attributes) and behavior (methods) defined by its class. When a class is like a blueprint, an object is the actual product built from it. Each object can have different values for its attributes, but it shares the structure and behavior of the class. Objects allow real-world modeling and make code modular, reusable, and easier to manage."
      ],
      "metadata": {
        "id": "WRaUYcV8d3N0"
      }
    },
    {
      "cell_type": "markdown",
      "source": [
        "4. What is the difference between abstraction and encapsulation?\n",
        "\n",
        "Ans: Abstraction and encapsulation are key concepts in object-oriented programming. Abstraction hides complex implementation details and shows only essential features, helping users focus on what an object does rather than how it does it. Encapsulation, on the other hand, binds data and methods into a single unit (class) and restricts access to internal details through access modifiers. While abstraction focuses on design and interfaces, encapsulation ensures data protection and code modularity."
      ],
      "metadata": {
        "id": "dL1oDy9OeFyD"
      }
    },
    {
      "cell_type": "markdown",
      "source": [
        "5. What are dunder methods in Python?\n",
        "\n",
        "Ans: Dunder methods in Python (short for “double underscore” methods) are special methods with names that start and end with double underscores, like __init__, __str__, or __len__. They enable custom behavior for built-in Python operations. For example, __init__ initializes an object, __str__ defines its string representation, and __add__ can be used to define addition behavior between objects. These methods allow classes to interact with Python syntax and functions in a more intuitive and powerful way."
      ],
      "metadata": {
        "id": "ts_fpGx6YMZt"
      }
    },
    {
      "cell_type": "markdown",
      "source": [
        "6. Explain the concept of inheritance in OOP?\n",
        "\n",
        "Ans: Inheritance in Object-Oriented Programming (OOP) is a concept where one class (child or subclass) can use the properties and methods of another class (parent or superclass). It helps in code reusability and organization. The child class can also have its own features or override the parent’s methods. For example, if a class Animal has a method speak(), a class Dog can inherit from Animal and use or change the speak() method."
      ],
      "metadata": {
        "id": "GfJqKAmMaS_G"
      }
    },
    {
      "cell_type": "markdown",
      "source": [
        "7. What is polymorphism in OOP?\n",
        "\n",
        "Ans: Polymorphism in Object-Oriented Programming (OOP) means using a single function or method in different ways. It allows objects of different classes to respond to the same method in their own way. For example, if different classes have a method called speak(), each class can define its own version. When you call speak() on an object, Python will run the correct version based on the object's class. This makes code more flexible and easier to manage."
      ],
      "metadata": {
        "id": "31xqbNYUY5GM"
      }
    },
    {
      "cell_type": "markdown",
      "source": [
        "8. How is encapsulation achieved in Python?\n",
        "\n",
        "Ans: Encapsulation in Python is achieved by bundling data (variables) and methods (functions) inside a class and controlling access using access modifiers. Python uses:\n",
        "\n",
        "* Public members (no underscore): accessible from anywhere.\n",
        "\n",
        "* Protected members (single underscore _): meant for internal use, but still accessible.\n",
        "\n",
        "* Private members (double underscore __): not directly accessible from outside the class.\n",
        "\n",
        "This helps protect data from unwanted changes and keeps code organized. Methods like getters and setters are often used to access or update private data safely."
      ],
      "metadata": {
        "id": "B5A6dSbQZMoo"
      }
    },
    {
      "cell_type": "markdown",
      "source": [
        "9. What is a constructor in Python?\n",
        "\n",
        "Ans: A constructor in Python is a special method called __init__() that runs automatically when a new object of a class is created. It is used to initialize the object with default or given values. For example:\n",
        "\n",
        "class Person:\n",
        "    \n",
        "    def __init__(self, name):\n",
        "        self.name = name\n",
        "\n",
        "  "
      ],
      "metadata": {
        "id": "D_dpMPJSZpXY"
      }
    },
    {
      "cell_type": "markdown",
      "source": [
        "10. What are class and static methods in Python?\n",
        "\n",
        "Ans: In Python, class methods and static methods are special types of methods defined inside a class:\n",
        "\n",
        "* Class methods use the @classmethod decorator and take cls as the first parameter. They can access or modify class-level data but not instance-level data.\n",
        "Example:\n",
        "\n",
        "@classmethod\n",
        "\n",
        "def change_school(cls, new_name):\n",
        "    \n",
        "    cls.school = new_name\n",
        "\n",
        "* Static methods use the @staticmethod decorator and do not take self or cls. They don’t access class or instance data and behave like regular functions inside a class.\n",
        "Example:\n",
        "\n",
        "@staticmethod\n",
        "\n",
        "def add(x, y):\n",
        "    \n",
        "    return x + y\n",
        "\n",
        "\n",
        "They help organize code better based on functionality.\n",
        "\n",
        "\n",
        "\n"
      ],
      "metadata": {
        "id": "R2A-7_ztbhqD"
      }
    },
    {
      "cell_type": "markdown",
      "source": [
        "11. What is method overloading in Python?\n",
        "\n",
        "Ans: Method overloading in Python means having multiple methods with the same name but different arguments. However, Python does not support traditional method overloading like some other languages. Instead, you can achieve similar behavior by using default arguments or *args and **args to handle different numbers or types of arguments.\n",
        "\n",
        "Example:\n",
        "\n",
        "class Demo:\n",
        "    \n",
        "    def show(self, a=None, b=None):\n",
        "        if a and b:\n",
        "            print(a, b)\n",
        "        elif a:\n",
        "            print(a)\n",
        "        else:\n",
        "            print(\"No arguments\")\n",
        "\n",
        "  \n",
        "  This way, the same method works with different arguments.\n"
      ],
      "metadata": {
        "id": "ITZe-yUzcnDp"
      }
    },
    {
      "cell_type": "markdown",
      "source": [
        "12. What is method overriding in OOP?\n",
        "\n",
        "Ans: Method overriding in OOP happens when a child class provides its own version of a method that is already defined in the parent class. The child class overrides the parent’s method to give it new behavior. This allows flexibility and customization.\n",
        "\n",
        "Example:\n",
        "\n",
        "class Animal:\n",
        "    \n",
        "    def speak(self):\n",
        "        print(\"Animal speaks\")\n",
        "\n",
        "class Dog(Animal):\n",
        "    \n",
        "    def speak(self):\n",
        "        print(\"Dog barks\")\n",
        "\n",
        "\n",
        "Here, Dog overrides the speak() method of Animal. When speak() is called on a Dog object, it runs the child’s version.\n"
      ],
      "metadata": {
        "id": "B65M7ajcdVtv"
      }
    },
    {
      "cell_type": "markdown",
      "source": [
        "13. What is a property decorator in Python?\n",
        "\n",
        "Ans: The @property decorator in Python is used to define a method that can be accessed like an attribute. It lets you create getter methods in a clean and readable way without needing to call them like functions.\n",
        "\n",
        "Example:\n",
        "\n",
        "class Circle:\n",
        "    \n",
        "    def __init__(self, radius):\n",
        "        self._radius = radius\n",
        "\n",
        "    @property\n",
        "    def area(self):\n",
        "        return 3.14 * self._radius ** 2\n"
      ],
      "metadata": {
        "id": "PvuDF9add5le"
      }
    },
    {
      "cell_type": "markdown",
      "source": [
        "14. Why is polymorphism important in OOP?\n",
        "\n",
        "Ans: Polymorphism is important in OOP because it allows objects of different classes to be treated as if they are of the same class through a common interface. This makes code more flexible, reusable, and easier to manage. For example, different classes can have a method with the same name, like draw(), but each class can implement it differently. You can then loop through different objects and call draw() without worrying about their specific class. This simplifies code and supports better design."
      ],
      "metadata": {
        "id": "K98DjbIqedyZ"
      }
    },
    {
      "cell_type": "markdown",
      "source": [
        "15. What is an abstract class in Python?\n",
        "\n",
        "Ans: An abstract class in Python is a class that cannot be instantiated directly. It is used as a blueprint for other classes. It can have abstract methods (methods without implementation) that must be defined in any child class. Abstract classes are created using the abc module and the @abstractmethod decorator.\n",
        "\n",
        "Example:\n",
        "\n",
        "from abc import ABC, abstractmethod\n",
        "\n",
        "class Animal(ABC):\n",
        "    \n",
        "    @abstractmethod\n",
        "    def sound(self):\n",
        "        pass\n"
      ],
      "metadata": {
        "id": "zAh4WlbKe0dS"
      }
    },
    {
      "cell_type": "markdown",
      "source": [
        "16. What are the advantages of OOP?\n",
        "\n",
        "Ans: Advantages of Object-Oriented Programming (OOP) include:\n",
        "\n",
        "* Modularity: Code is organized into classes, making it easier to manage and understand.\n",
        "\n",
        "* Reusability: Classes can be reused across programs through inheritance.\n",
        "\n",
        "* Flexibility: Polymorphism allows the same method to behave differently in different classes.\n",
        "\n",
        "* Encapsulation: Protects data by restricting direct access and bundling it with related methods.\n",
        "\n",
        "* Maintainability: Code is easier to update and debug due to its organized structure.\n",
        "\n",
        "* Scalability: Easy to expand large programs by adding new classes and features."
      ],
      "metadata": {
        "id": "M92rCw1qfO4I"
      }
    },
    {
      "cell_type": "markdown",
      "source": [
        "17. What is the difference between a class variable and an instance variable?\n",
        "\n",
        "Ans: A class variable is shared by all objects of a class, while an instance variable is unique to each object.\n",
        "\n",
        "* **Class Variable**: Defined inside the class but outside any method. Same value for all instances.\n",
        "\n",
        "class Dog:\n",
        "    species = \"Canine\"  # class variable\n",
        "\n",
        "* **Instance Variable**: Defined inside a method (usually __init__) using self. Each object can have different values.\n",
        "\n",
        "def __init__(self, name):\n",
        "    self.name = name  # instance variable\n",
        "\n",
        "\n",
        "While class variables are common to all objects, while instance variables are specific to each object."
      ],
      "metadata": {
        "id": "ztNlNsU24u8c"
      }
    },
    {
      "cell_type": "markdown",
      "source": [
        "18. What is multiple inheritance in Python?\n",
        "\n",
        "Ans: Multiple inheritance in Python means a class can inherit from more than one parent class. This allows a child class to access features (methods and variables) from multiple classes.\n",
        "\n",
        "Example:\n",
        "\n",
        "class A:\n",
        "    \n",
        "    def method_a(self):\n",
        "        print(\"Method from A\")\n",
        "\n",
        "class B:\n",
        "    \n",
        "    def method_b(self):\n",
        "        print(\"Method from B\")\n",
        "\n",
        "class C(A, B):\n",
        "    \n",
        "    pass\n",
        "\n",
        "obj = C()\n",
        "\n",
        "obj.method_a()\n",
        "\n",
        "obj.method_b()\n",
        "\n",
        "Here, class C inherits from both A and B. Python handles this using the Method Resolution Order (MRO) to decide the order in which parent classes are searched.\n"
      ],
      "metadata": {
        "id": "ypxoNIx-5wLZ"
      }
    },
    {
      "cell_type": "markdown",
      "source": [
        "19. Explain the purpose of ‘’__str__’ and ‘__repr__’ ‘ methods in Python.\n",
        "\n",
        "Ans: In Python, \"__str__\" and \"__repr__\" are special methods used to define how an object is represented as a string:\n",
        "\n",
        "* \"__str__\": Used to return a user-friendly string representation of an object. Called by print() or str().\n",
        "Example:\n",
        "\n",
        "def __str__(self):\n",
        "    \n",
        "    return \"This is a person object\"\n",
        "\n",
        "* \"__repr__\": Used to return an unambiguous string for debugging, often one that can recreate the object. Called by repr() or in the console.\n",
        "Example:\n",
        "\n",
        "def __repr__(self):\n",
        "    \n",
        "    return \"Person('John', 25)\"\n",
        "\n",
        "If \"__str__\" is not defined, Python falls back to \"__repr__\".\n",
        "\n",
        "\n"
      ],
      "metadata": {
        "id": "6XPReCb16Ygr"
      }
    },
    {
      "cell_type": "markdown",
      "source": [
        "20. What is the significance of the ‘super()’ function in Python?\n",
        "\n",
        "Ans: The super() function in Python is used to call methods from a parent (or superclass) inside a child (subclass). It helps avoid repeating code and supports better use of inheritance, especially in multiple inheritance.\n",
        "\n",
        "Why it's useful:\n",
        "\n",
        "* Calls the parent class's method without hardcoding the class name.\n",
        "\n",
        "* Helps maintain clean and reusable code.\n",
        "\n",
        "Example:\n",
        "\n",
        "class Animal:\n",
        "    \n",
        "    def __init__(self, name):\n",
        "        self.name = name\n",
        "\n",
        "class Dog(Animal):\n",
        "    \n",
        "    def __init__(self, name, breed):\n",
        "        super().__init__(name)  # calls Animal's __init__\n",
        "        self.breed = breed\n",
        "\n",
        "Here, super() lets Dog reuse Animal's __init__ method."
      ],
      "metadata": {
        "id": "KvGUrCep7jbF"
      }
    },
    {
      "cell_type": "markdown",
      "source": [
        "21. What is the significance of the __del__ method in Python?\n",
        "\n",
        "Ans: The __del__ method in Python is a special method called a destructor. It is automatically called when an object is about to be destroyed, usually when there are no more references to it.\n",
        "\n",
        "**Purpose**:\n",
        "It is used to perform cleanup tasks like closing files, releasing resources, or printing a message when an object is deleted."
      ],
      "metadata": {
        "id": "sxbuWyXO8MUU"
      }
    },
    {
      "cell_type": "markdown",
      "source": [
        "22. What is the difference between @staticmethod and @classmethod in Python?\n",
        "\n",
        "Ans: The difference between @staticmethod and @classmethod in Python lies in what they receive as the first argument and how they interact with the class:\n",
        "\n",
        "**@staticmethod**:\n",
        "* Does not take self or cls as the first argument.\n",
        "\n",
        "* Cannot access or modify class or instance data.\n",
        "\n",
        "* Works like a regular function placed inside a class for better organization.\n",
        "\n",
        "class Math:\n",
        "    \n",
        "    @staticmethod\n",
        "    def add(x, y):\n",
        "        return x + y\n",
        "\n",
        "**@classmethod**:\n",
        "* Takes cls as the first argument (refers to the class).\n",
        "\n",
        "* Can access or modify class-level data.\n",
        "\n",
        "* Useful for creating factory methods or modifying class state.\n",
        "\n",
        "class Person:\n",
        "    \n",
        "    count = 0\n",
        "\n",
        "    @classmethod\n",
        "    def increment_count(cls):\n",
        "        cls.count += 1\n",
        "\n",
        "While it's use @staticmethod for utility methods, and @classmethod when you need to work with the class itself.\n",
        "\n"
      ],
      "metadata": {
        "id": "jB5EdUMX81xb"
      }
    },
    {
      "cell_type": "markdown",
      "source": [
        "23. How does polymorphism work in Python with inheritance?\n",
        "\n",
        "Ans: In Python, polymorphism with inheritance allows different classes to define methods with the same name, and the correct method is called based on the object’s class—even if accessed through a common interface (like a parent class reference).\n",
        "\n",
        "Example:\n",
        "\n",
        "class Animal:\n",
        "    \n",
        "    def speak(self):\n",
        "        print(\"Animal speaks\")\n",
        "\n",
        "class Dog(Animal):\n",
        "    \n",
        "    def speak(self):\n",
        "        print(\"Dog barks\")\n",
        "\n",
        "class Cat(Animal):\n",
        "    \n",
        "    def speak(self):\n",
        "        print(\"Cat meows\")\n",
        "\n",
        "# Polymorphism in action\n",
        "def make_sound(animal):\n",
        "    \n",
        "    animal.speak()\n",
        "\n",
        "make_sound(Dog())  # Output: Dog barks\n",
        "\n",
        "make_sound(Cat())  # Output: Cat meows\n",
        "\n",
        "Here, the same method speak() behaves differently depending on the object (Dog or Cat). This is runtime polymorphism, and it makes code flexible and easy to extend.\n"
      ],
      "metadata": {
        "id": "FyBno6kr9sYQ"
      }
    },
    {
      "cell_type": "markdown",
      "source": [
        "24. What is method chaining in Python OOP?\n",
        "\n",
        "Ans: Method chaining in Python OOP is a technique where multiple methods are called on the same object in a single line, one after another. This is done by having each method return self (the current object).\n",
        "\n",
        "Example:\n",
        "\n",
        "class Person:\n",
        "    \n",
        "    def __init__(self, name):\n",
        "        self.name = name\n",
        "\n",
        "    def set_age(self, age):\n",
        "        self.age = age\n",
        "        return self\n",
        "\n",
        "    def set_city(self, city):\n",
        "        self.city = city\n",
        "        return self\n",
        "\n",
        "    def show(self):\n",
        "        print(f\"{self.name}, {self.age}, {self.city}\")\n",
        "        return self\n",
        "\n",
        "* Method chaining\n",
        "\n",
        "person = Person(\"Alice\").set_age(25).set_city(\"New York\").show()\n",
        "\n",
        "\n",
        "Why it's useful:\n",
        "\n",
        "* Makes code cleaner and more readable.\n",
        "\n",
        "* Good for configuring objects step-by-step in a single line.\n"
      ],
      "metadata": {
        "id": "AOPVJgh1-Xb5"
      }
    },
    {
      "cell_type": "markdown",
      "source": [
        "25. What is the purpose of the __call__ method in Python?\n",
        "\n",
        "Ans: The __call__ method in Python allows an instance of a class to be called like a function. When you define __call__ in a class, you can use the object itself as if it were a function.\n",
        "\n",
        "Example:\n",
        "\n",
        "class Greeter:\n",
        "    def __init__(self, name):\n",
        "        self.name = name\n",
        "\n",
        "    def __call__(self):\n",
        "        print(f\"Hello, {self.name}!\")\n",
        "\n",
        "g = Greeter(\"Manojit\")\n",
        "\n",
        "g()  # This will call g.__call__() and print: Hello, Manojit!\n",
        "\n",
        "Purpose:\n",
        "* Adds function-like behavior to objects.\n",
        "\n",
        "* Useful in decorators, factories, and custom function wrappers.\n",
        "It makes objects more flexible and powerful.\n",
        "\n"
      ],
      "metadata": {
        "id": "0YI0iXQm-1Wi"
      }
    },
    {
      "cell_type": "markdown",
      "source": [
        "# **Practical Questions**"
      ],
      "metadata": {
        "id": "jQ9dIedm_ctB"
      }
    },
    {
      "cell_type": "code",
      "source": [
        "#1. Create a parent class Animal with a method speak() that prints a generic message. Create a child class Dog that overrides the speak() method to print \"Bark!\".\n",
        "\n",
        "\n",
        "class Animal:\n",
        "    def speak(self):\n",
        "        print(\"Animal makes a sound\")\n",
        "\n",
        "class Dog(Animal):\n",
        "    def speak(self):\n",
        "        print(\"Bark!\")\n",
        "\n",
        "# Example usage\n",
        "a = Animal()\n",
        "a.speak()\n",
        "\n",
        "d = Dog()\n",
        "d.speak()\n"
      ],
      "metadata": {
        "colab": {
          "base_uri": "https://localhost:8080/"
        },
        "id": "GnEKd3YP_jGw",
        "outputId": "a5228b54-b70e-4640-c780-9a0ade3e03d7"
      },
      "execution_count": 2,
      "outputs": [
        {
          "output_type": "stream",
          "name": "stdout",
          "text": [
            "Animal makes a sound\n",
            "Bark!\n"
          ]
        }
      ]
    },
    {
      "cell_type": "code",
      "source": [
        "#2. Write a program to create an abstract class Shape with a method area(). Derive classes Circle and Rectangle from it and implement the area() method in both.\n",
        "\n",
        "from abc import ABC, abstractmethod\n",
        "import math\n",
        "\n",
        "# Abstract class\n",
        "class Shape(ABC):\n",
        "    @abstractmethod\n",
        "    def area(self):\n",
        "        pass\n",
        "\n",
        "# Circle class\n",
        "class Circle(Shape):\n",
        "    def __init__(self, radius):\n",
        "        self.radius = radius\n",
        "\n",
        "    def area(self):\n",
        "        return math.pi * self.radius ** 2\n",
        "\n",
        "# Rectangle class\n",
        "class Rectangle(Shape):\n",
        "    def __init__(self, length, width):\n",
        "        self.length = length\n",
        "        self.width = width\n",
        "\n",
        "    def area(self):\n",
        "        return self.length * self.width\n",
        "\n",
        "\n",
        "c = Circle(5)\n",
        "r = Rectangle(4, 6)\n",
        "\n",
        "print(\"Circle area:\", c.area())\n",
        "print(\"Rectangle area:\", r.area())\n"
      ],
      "metadata": {
        "colab": {
          "base_uri": "https://localhost:8080/"
        },
        "id": "uFiz7VTyANv-",
        "outputId": "5386f3f8-b7b1-4b1b-906b-3b06c7961fe8"
      },
      "execution_count": 3,
      "outputs": [
        {
          "output_type": "stream",
          "name": "stdout",
          "text": [
            "Circle area: 78.53981633974483\n",
            "Rectangle area: 24\n"
          ]
        }
      ]
    },
    {
      "cell_type": "code",
      "source": [
        "#3. Implement a multi-level inheritance scenario where a class Vehicle has an attribute type. Derive a class Car and further derive a class ElectricCar that adds a battery attribute.\n",
        "\n",
        "# Base class\n",
        "class Vehicle:\n",
        "    def __init__(self, vehicle_type):\n",
        "        self.vehicle_type = vehicle_type\n",
        "\n",
        "# Derived class from Vehicle\n",
        "class Car(Vehicle):\n",
        "    def __init__(self, vehicle_type, brand):\n",
        "        super().__init__(vehicle_type)\n",
        "        self.brand = brand\n",
        "\n",
        "# Derived class from Car\n",
        "class ElectricCar(Car):\n",
        "    def __init__(self, vehicle_type, brand, battery):\n",
        "        super().__init__(vehicle_type, brand)\n",
        "        self.battery = battery\n",
        "\n",
        "    def show_info(self):\n",
        "        print(f\"Type: {self.vehicle_type}\")\n",
        "        print(f\"Brand: {self.brand}\")\n",
        "        print(f\"Battery: {self.battery} kWh\")\n",
        "\n",
        "\n",
        "e_car = ElectricCar(\"Four Wheeler\", \"Tesla\", 75)\n",
        "e_car.show_info()\n"
      ],
      "metadata": {
        "colab": {
          "base_uri": "https://localhost:8080/"
        },
        "id": "ukeh6LhVAtPj",
        "outputId": "76b528f6-12a6-481f-b757-f3574f18fedb"
      },
      "execution_count": 4,
      "outputs": [
        {
          "output_type": "stream",
          "name": "stdout",
          "text": [
            "Type: Four Wheeler\n",
            "Brand: Tesla\n",
            "Battery: 75 kWh\n"
          ]
        }
      ]
    },
    {
      "cell_type": "code",
      "source": [
        "#4. Demonstrate polymorphism by creating a base class Bird with a method fly(). Create two derived classes Sparrow and Penguin that override the fly() method.\n",
        "\n",
        "# Base class\n",
        "class Bird:\n",
        "    def fly(self):\n",
        "        print(\"Bird is flying\")\n",
        "\n",
        "# Derived class 1\n",
        "class Sparrow(Bird):\n",
        "    def fly(self):\n",
        "        print(\"Sparrow flies high in the sky\")\n",
        "\n",
        "# Derived class 2\n",
        "class Penguin(Bird):\n",
        "    def fly(self):\n",
        "        print(\"Penguin can't fly, but swims well\")\n",
        "\n",
        "# Polymorphism in action\n",
        "def bird_flight(bird):\n",
        "    bird.fly()\n",
        "\n",
        "\n",
        "b1 = Sparrow()\n",
        "b2 = Penguin()\n",
        "\n",
        "bird_flight(b1)\n",
        "bird_flight(b2)\n"
      ],
      "metadata": {
        "colab": {
          "base_uri": "https://localhost:8080/"
        },
        "id": "MyPuX6KcBVg5",
        "outputId": "49a9eb47-439d-4945-f3fb-daa6aa6b4d9d"
      },
      "execution_count": 5,
      "outputs": [
        {
          "output_type": "stream",
          "name": "stdout",
          "text": [
            "Sparrow flies high in the sky\n",
            "Penguin can't fly, but swims well\n"
          ]
        }
      ]
    },
    {
      "cell_type": "code",
      "source": [
        "#5. Write a program to demonstrate encapsulation by creating a class BankAccount with private attributes balance and methods to deposit, withdraw, and check balance.\n",
        "\n",
        "class BankAccount:\n",
        "    def __init__(self, initial_balance=0):\n",
        "        self.__balance = initial_balance  # private attribute\n",
        "\n",
        "    def deposit(self, amount):\n",
        "        if amount > 0:\n",
        "            self.__balance += amount\n",
        "            print(f\"Deposited: ₹{amount}\")\n",
        "        else:\n",
        "            print(\"Deposit amount must be positive\")\n",
        "\n",
        "    def withdraw(self, amount):\n",
        "        if 0 < amount <= self.__balance:\n",
        "            self.__balance -= amount\n",
        "            print(f\"Withdrawn: ₹{amount}\")\n",
        "        else:\n",
        "            print(\"Insufficient balance or invalid amount\")\n",
        "\n",
        "    def check_balance(self):\n",
        "        print(f\"Current Balance: ₹{self.__balance}\")\n",
        "\n",
        "\n",
        "account = BankAccount(1000)\n",
        "account.deposit(500)\n",
        "account.withdraw(300)\n",
        "account.check_balance()\n"
      ],
      "metadata": {
        "colab": {
          "base_uri": "https://localhost:8080/"
        },
        "id": "rRvzzvDoFcWh",
        "outputId": "ddd68e0f-f1e9-4f8c-9a83-36841668d56c"
      },
      "execution_count": 6,
      "outputs": [
        {
          "output_type": "stream",
          "name": "stdout",
          "text": [
            "Deposited: ₹500\n",
            "Withdrawn: ₹300\n",
            "Current Balance: ₹1200\n"
          ]
        }
      ]
    },
    {
      "cell_type": "code",
      "source": [
        "#6. Demonstrate runtime polymorphism using a method play() in a base class Instrument. Derive classes Guitar and Piano that implement their own version of play().\n",
        "\n",
        "# Base class\n",
        "class Instrument:\n",
        "    def play(self):\n",
        "        print(\"Playing an instrument\")\n",
        "\n",
        "# Derived class 1\n",
        "class Guitar(Instrument):\n",
        "    def play(self):\n",
        "        print(\"Strumming the guitar\")\n",
        "\n",
        "# Derived class 2\n",
        "class Piano(Instrument):\n",
        "    def play(self):\n",
        "        print(\"Playing the piano keys\")\n",
        "\n",
        "# Function to demonstrate polymorphism\n",
        "def perform(instrument):\n",
        "    instrument.play()\n",
        "\n",
        "\n",
        "g = Guitar()\n",
        "p = Piano()\n",
        "\n",
        "perform(g)\n",
        "perform(p)\n"
      ],
      "metadata": {
        "colab": {
          "base_uri": "https://localhost:8080/"
        },
        "id": "SS8gXzvNFuyu",
        "outputId": "320d98cd-c05a-4466-9ce9-7152786e9c4f"
      },
      "execution_count": 7,
      "outputs": [
        {
          "output_type": "stream",
          "name": "stdout",
          "text": [
            "Strumming the guitar\n",
            "Playing the piano keys\n"
          ]
        }
      ]
    },
    {
      "cell_type": "code",
      "source": [
        "#7. Create a class MathOperations with a class method add_numbers() to add two numbers and a static method subtract_numbers() to subtract two numbers.\n",
        "\n",
        "class MathOperations:\n",
        "    @classmethod\n",
        "    def add_numbers(cls, a, b):\n",
        "        return a + b\n",
        "\n",
        "    @staticmethod\n",
        "    def subtract_numbers(a, b):\n",
        "        return a - b\n",
        "\n",
        "\n",
        "print(\"Addition:\", MathOperations.add_numbers(10, 5))\n",
        "print(\"Subtraction:\", MathOperations.subtract_numbers(10, 5))\n"
      ],
      "metadata": {
        "colab": {
          "base_uri": "https://localhost:8080/"
        },
        "id": "HlvyOkfoGDJS",
        "outputId": "bc3ccaca-1390-486c-9b7a-519e9c6eb7f4"
      },
      "execution_count": 8,
      "outputs": [
        {
          "output_type": "stream",
          "name": "stdout",
          "text": [
            "Addition: 15\n",
            "Subtraction: 5\n"
          ]
        }
      ]
    },
    {
      "cell_type": "code",
      "source": [
        "#8. Implement a class Person with a class method to count the total number of persons created.\n",
        "\n",
        "class Person:\n",
        "    count = 0  # Class variable to keep track of instances\n",
        "\n",
        "    def __init__(self, name):\n",
        "        self.name = name\n",
        "        Person.count += 1\n",
        "\n",
        "    @classmethod\n",
        "    def get_person_count(cls):\n",
        "        return cls.count\n",
        "\n",
        "# Creating Person objects\n",
        "p1 = Person(\"Alice\")\n",
        "p2 = Person(\"Bob\")\n",
        "p3 = Person(\"Charlie\")\n",
        "\n",
        "# Using class method to get count\n",
        "print(\"Total persons created:\", Person.get_person_count())\n"
      ],
      "metadata": {
        "colab": {
          "base_uri": "https://localhost:8080/"
        },
        "id": "3wArNb6CG-8F",
        "outputId": "1e00d0cf-7df3-429c-e86a-efa8d1dca3d3"
      },
      "execution_count": 9,
      "outputs": [
        {
          "output_type": "stream",
          "name": "stdout",
          "text": [
            "Total persons created: 3\n"
          ]
        }
      ]
    },
    {
      "cell_type": "code",
      "source": [
        "#9. Write a class Fraction with attributes numerator and denominator. Override the str method to display the fraction as \"numerator/denominator\".\n",
        "\n",
        "class Fraction:\n",
        "    def __init__(self, numerator, denominator):\n",
        "        self.numerator = numerator\n",
        "        self.denominator = denominator\n",
        "\n",
        "    def __str__(self):\n",
        "        return f\"{self.numerator}/{self.denominator}\"\n",
        "\n",
        "\n",
        "f1 = Fraction(3, 4)\n",
        "f2 = Fraction(5, 8)\n",
        "\n",
        "print(f1)\n",
        "print(f2)\n"
      ],
      "metadata": {
        "colab": {
          "base_uri": "https://localhost:8080/"
        },
        "id": "IB5Hijy8HrhC",
        "outputId": "7b86f16e-8a72-44e8-d874-67b4cde97a57"
      },
      "execution_count": 10,
      "outputs": [
        {
          "output_type": "stream",
          "name": "stdout",
          "text": [
            "3/4\n",
            "5/8\n"
          ]
        }
      ]
    },
    {
      "cell_type": "code",
      "source": [
        "#10. Demonstrate operator overloading by creating a class Vector and overriding the add method to add two vectors.\n",
        "\n",
        "class Vector:\n",
        "    def __init__(self, x, y):\n",
        "        self.x = x\n",
        "        self.y = y\n",
        "\n",
        "    def __add__(self, other):\n",
        "        return Vector(self.x + other.x, self.y + other.y)\n",
        "\n",
        "    def __str__(self):\n",
        "        return f\"Vector({self.x}, {self.y})\"\n",
        "\n",
        "v1 = Vector(2, 3)\n",
        "v2 = Vector(4, 1)\n",
        "v3 = v1 + v2  # Calls v1.__add__(v2)\n",
        "\n",
        "print(v3)\n"
      ],
      "metadata": {
        "colab": {
          "base_uri": "https://localhost:8080/"
        },
        "id": "ZglNQ8PIIQju",
        "outputId": "a2f2a79a-094a-4784-f276-118989d452a4"
      },
      "execution_count": 11,
      "outputs": [
        {
          "output_type": "stream",
          "name": "stdout",
          "text": [
            "Vector(6, 4)\n"
          ]
        }
      ]
    },
    {
      "cell_type": "code",
      "source": [
        "#11. Create a class Person with attributes name and age. Add a method greet() that prints \"Hello, my name is {name} and I am {age} years old.\"\n",
        "\n",
        "class Person:\n",
        "    def __init__(self, name, age):\n",
        "        self.name = name\n",
        "        self.age = age\n",
        "\n",
        "    def greet(self):\n",
        "        print(f\"Hello, my name is {self.name} and I am {self.age} years old.\")\n",
        "\n",
        "# Example usage\n",
        "p = Person(\"Uday\", 30)\n",
        "p.greet()\n"
      ],
      "metadata": {
        "colab": {
          "base_uri": "https://localhost:8080/"
        },
        "id": "o8E9O6T_I2aD",
        "outputId": "eb74119d-4d6d-48bd-c180-d7c9c20efa3d"
      },
      "execution_count": 12,
      "outputs": [
        {
          "output_type": "stream",
          "name": "stdout",
          "text": [
            "Hello, my name is Uday and I am 30 years old.\n"
          ]
        }
      ]
    },
    {
      "cell_type": "code",
      "source": [
        "#13. Create a class Rectangle with methods set_dimensions() to set the dimensions and area() to calculate the area.\n",
        "\n",
        "class Rectangle:\n",
        "    def __init__(self):\n",
        "        self.length = 0\n",
        "        self.width = 0\n",
        "\n",
        "    def set_dimensions(self, length, width):\n",
        "        self.length = length\n",
        "        self.width = width\n",
        "\n",
        "    def area(self):\n",
        "        return self.length * self.width\n",
        "\n",
        "\n",
        "rect = Rectangle()\n",
        "rect.set_dimensions(5, 4)\n",
        "print(\"Area of rectangle:\", rect.area())"
      ],
      "metadata": {
        "colab": {
          "base_uri": "https://localhost:8080/"
        },
        "id": "XDH-BHDKJRm-",
        "outputId": "2534ebcb-3f6c-451f-9e95-e8e1b0b34b13"
      },
      "execution_count": 13,
      "outputs": [
        {
          "output_type": "stream",
          "name": "stdout",
          "text": [
            "Area of rectangle: 20\n"
          ]
        }
      ]
    },
    {
      "cell_type": "code",
      "source": [
        "#14. Create a class Employee with a method calculate_salary() that computes the salary based on hours worked and hourly rate. Create a derived class Manager that adds a bonus to the salary.\n",
        "\n",
        "# Base class\n",
        "class Employee:\n",
        "    def __init__(self, hours_worked, hourly_rate):\n",
        "        self.hours_worked = hours_worked\n",
        "        self.hourly_rate = hourly_rate\n",
        "\n",
        "    def calculate_salary(self):\n",
        "        return self.hours_worked * self.hourly_rate\n",
        "\n",
        "# Derived class\n",
        "class Manager(Employee):\n",
        "    def __init__(self, hours_worked, hourly_rate, bonus):\n",
        "        super().__init__(hours_worked, hourly_rate)\n",
        "        self.bonus = bonus\n",
        "\n",
        "    def calculate_salary(self):\n",
        "        base_salary = super().calculate_salary()\n",
        "        return base_salary + self.bonus\n",
        "\n",
        "\n",
        "emp = Employee(40, 200)\n",
        "mgr = Manager(40, 200, 5000)\n",
        "\n",
        "print(\"Employee Salary:\", emp.calculate_salary())\n",
        "print(\"Manager Salary:\", mgr.calculate_salary())\n"
      ],
      "metadata": {
        "colab": {
          "base_uri": "https://localhost:8080/"
        },
        "id": "cwTOuUNMKGSi",
        "outputId": "0e9915d8-4cac-42fb-a2f2-01cc01be307d"
      },
      "execution_count": 14,
      "outputs": [
        {
          "output_type": "stream",
          "name": "stdout",
          "text": [
            "Employee Salary: 8000\n",
            "Manager Salary: 13000\n"
          ]
        }
      ]
    },
    {
      "cell_type": "code",
      "source": [
        "#15. Create a class Product with attributes name, price, and quantity. Implement a method total_price() that calculates the total price of the product.\n",
        "\n",
        "class Product:\n",
        "    def __init__(self, name, price, quantity):\n",
        "        self.name = name\n",
        "        self.price = price\n",
        "        self.quantity = quantity\n",
        "\n",
        "    def total_price(self):\n",
        "        return self.price * self.quantity\n",
        "\n",
        "\n",
        "p = Product(\"Laptop\", 50000, 2)\n",
        "print(\"Total Price:\", p.total_price())"
      ],
      "metadata": {
        "colab": {
          "base_uri": "https://localhost:8080/"
        },
        "id": "PYhFwSb-KjQZ",
        "outputId": "bb2ab7a2-3681-4767-e3d3-e5a2882b5277"
      },
      "execution_count": 15,
      "outputs": [
        {
          "output_type": "stream",
          "name": "stdout",
          "text": [
            "Total Price: 100000\n"
          ]
        }
      ]
    },
    {
      "cell_type": "code",
      "source": [
        "#16. Create a class Animal with an abstract method sound(). Create two derived classes Cow and Sheep that implement the sound() method.\n",
        "\n",
        "from abc import ABC, abstractmethod\n",
        "\n",
        "# Abstract base class\n",
        "class Animal(ABC):\n",
        "    @abstractmethod\n",
        "    def sound(self):\n",
        "        pass\n",
        "\n",
        "# Derived class Cow\n",
        "class Cow(Animal):\n",
        "    def sound(self):\n",
        "        print(\"Cow says Moo\")\n",
        "\n",
        "# Derived class Sheep\n",
        "class Sheep(Animal):\n",
        "    def sound(self):\n",
        "        print(\"Sheep says Baa\")\n",
        "\n",
        "\n",
        "c = Cow()\n",
        "s = Sheep()\n",
        "\n",
        "c.sound()\n",
        "s.sound()\n"
      ],
      "metadata": {
        "colab": {
          "base_uri": "https://localhost:8080/"
        },
        "id": "_K8Av_mxK63U",
        "outputId": "e85aee10-b2ed-43d1-a157-dfeacac95a73"
      },
      "execution_count": 16,
      "outputs": [
        {
          "output_type": "stream",
          "name": "stdout",
          "text": [
            "Cow says Moo\n",
            "Sheep says Baa\n"
          ]
        }
      ]
    },
    {
      "cell_type": "code",
      "source": [
        "#17. Create a class Book with attributes title, author, and year_published. Add a method get_book_info() that returns a formatted string with the book's details.\n",
        "\n",
        "class Book:\n",
        "    def __init__(self, title, author, year_published):\n",
        "        self.title = title\n",
        "        self.author = author\n",
        "        self.year_published = year_published\n",
        "\n",
        "    def get_book_info(self):\n",
        "        return f\"'{self.title}' by {self.author}, published in {self.year_published}\"\n",
        "\n",
        "b = Book(\"1984\", \"George Orwell\", 1949)\n",
        "print(b.get_book_info())"
      ],
      "metadata": {
        "colab": {
          "base_uri": "https://localhost:8080/"
        },
        "id": "uWYNy9ZdLPgV",
        "outputId": "4cb34987-d129-41e8-c65f-92f43950e0b8"
      },
      "execution_count": 19,
      "outputs": [
        {
          "output_type": "stream",
          "name": "stdout",
          "text": [
            "'1984' by George Orwell, published in 1949\n"
          ]
        }
      ]
    },
    {
      "cell_type": "code",
      "source": [
        "#18. Create a class House with attributes address and price. Create a derived class Mansion that adds an attribute number_of_rooms.\n",
        "\n",
        "# Base class\n",
        "class House:\n",
        "    def __init__(self, address, price):\n",
        "        self.address = address\n",
        "        self.price = price\n",
        "\n",
        "# Derived class\n",
        "class Mansion(House):\n",
        "    def __init__(self, address, price, number_of_rooms):\n",
        "        super().__init__(address, price)\n",
        "        self.number_of_rooms = number_of_rooms\n",
        "\n",
        "    def show_details(self):\n",
        "        print(f\"Address: {self.address}\")\n",
        "        print(f\"Price: ₹{self.price}\")\n",
        "        print(f\"Number of rooms: {self.number_of_rooms}\")\n",
        "\n",
        "\n",
        "m = Mansion(\"92, Chandmari, Guwahati, Assam\", 45000000, 6)\n",
        "m.show_details()\n"
      ],
      "metadata": {
        "colab": {
          "base_uri": "https://localhost:8080/"
        },
        "id": "3CgI6_1pLvxp",
        "outputId": "56066ff8-4518-4bbb-d513-2e43342d4e6e"
      },
      "execution_count": 20,
      "outputs": [
        {
          "output_type": "stream",
          "name": "stdout",
          "text": [
            "Address: 92, Chandmari, Guwahati, Assam\n",
            "Price: ₹45000000\n",
            "Number of rooms: 6\n"
          ]
        }
      ]
    },
    {
      "cell_type": "markdown",
      "source": [
        "# **-----------------END--------------------------------**"
      ],
      "metadata": {
        "id": "bj1iQO2JMT-Q"
      }
    }
  ]
}